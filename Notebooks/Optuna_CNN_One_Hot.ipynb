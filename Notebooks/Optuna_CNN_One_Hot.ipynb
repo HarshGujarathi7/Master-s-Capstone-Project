{
 "cells": [
  {
   "cell_type": "markdown",
   "id": "2b4f75d1",
   "metadata": {},
   "source": [
    "## 🧬 One-Hot Encoded CNN for TFBS Detection (Optuna-CNN-One-Hot)\n",
    "\n",
    "This notebook focuses on building a CNN classifier for identifying transcription factor binding sites (TFBS) from raw DNA sequences using one-hot encoding. Each nucleotide (A, C, G, T) is represented as a binary vector, and sequences are transformed into 4×N matrices suitable for convolutional processing.\n",
    "\n",
    "A CNN is constructed to learn spatial features over the one-hot matrix, with its architecture (layer count, filter width, dropout rate, etc.) optimized using Optuna. The objective is to maximize validation accuracy through automated trials, identifying the most performant configuration of the network.\n",
    "\n",
    "The final model is capable of making accurate binary predictions on whether a given DNA sequence contains a TFBS, leveraging the raw structure of the sequence without requiring handcrafted features.\n"
   ]
  },
  {
   "cell_type": "code",
   "execution_count": null,
   "id": "c06dcd73",
   "metadata": {},
   "outputs": [],
   "source": [
    "import pandas as pd\n",
    "import numpy as np\n",
    "import torch\n",
    "import optuna\n",
    "\n",
    "import sys\n",
    "\n",
    "sys.path.append(\"../utils\")\n",
    "\n",
    "from initialize_results_df import initialize_results_df\n",
    "from load_sequence_data import load_sequence_data\n",
    "from one_hot import one_hot_encode_sequences\n",
    "from data_loader_one_hot import prepare_dataloaders\n",
    "from optuna_cnn_one_hot_utils import *\n",
    "\n",
    "DEVICE = torch.device(\"cuda\" if torch.cuda.is_available() else \"cpu\")"
   ]
  },
  {
   "cell_type": "code",
   "execution_count": null,
   "id": "db2ba9fb",
   "metadata": {},
   "outputs": [],
   "source": [
    "data_dir = \"..\\\\Data\"\n",
    "excel_dir = \"..\\\\Outputs\\\\excel_results.xlsx\"\n",
    "\n",
    "results_df, excel_df = initialize_results_df(data_dir, excel_dir)\n",
    "\n",
    "train_df = load_sequence_data(results_df[\"train_path\"][0])\n",
    "test_df = load_sequence_data(results_df[\"test_path\"][0])\n",
    "X = one_hot_encode_sequences(train_df[\"sequence\"])\n",
    "X = X.transpose(0, 2, 1)\n",
    "y = train_df[\"label\"]\n",
    "\n",
    "X_test = one_hot_encode_sequences(test_df[\"sequence\"])\n",
    "X_test = X_test.transpose(0, 2, 1)\n",
    "y_test = test_df[\"label\"]\n",
    "\n",
    "train_loader, valid_loader = prepare_dataloaders(X, y)"
   ]
  },
  {
   "cell_type": "code",
   "execution_count": null,
   "id": "413ef5e9",
   "metadata": {},
   "outputs": [
    {
     "name": "stderr",
     "output_type": "stream",
     "text": [
      "[I 2025-05-04 03:14:02,834] A new study created in memory with name: no-name-b055eb4e-d8a6-4031-b37e-06d8716c7da9\n",
      "[I 2025-05-04 03:14:38,656] Trial 0 finished with value: 0.9688606492862704 and parameters: {'num_layers': 4, 'lr': 0.00960716954798707, 'units_0': 128, 'kernel_size_0': 3, 'activation_0': 'tanh', 'pool_size_0': 2, 'dropout_0': 0.24461575242767664, 'dilation_0': 1, 'units_1': 32, 'kernel_size_1': 3, 'activation_1': 'relu', 'pool_size_1': 1, 'dropout_1': 0.32524137844098155, 'dilation_1': 2, 'units_2': 32, 'kernel_size_2': 5, 'activation_2': 'tanh', 'pool_size_2': 2, 'dropout_2': 0.3502093073976296, 'dilation_2': 1, 'units_3': 32, 'kernel_size_3': 5, 'activation_3': 'relu', 'pool_size_3': 1, 'dropout_3': 0.3804891375690817, 'dilation_3': 1}. Best is trial 0 with value: 0.9688606492862704.\n",
      "[I 2025-05-04 03:16:06,131] Trial 1 finished with value: 0.9753124320948446 and parameters: {'num_layers': 15, 'lr': 0.0023491455832738714, 'units_0': 64, 'kernel_size_0': 3, 'activation_0': 'relu', 'pool_size_0': 1, 'dropout_0': 0.02103802214214845, 'dilation_0': 2, 'units_1': 128, 'kernel_size_1': 5, 'activation_1': 'tanh', 'pool_size_1': 1, 'dropout_1': 0.060219506283157254, 'dilation_1': 2, 'units_2': 32, 'kernel_size_2': 3, 'activation_2': 'tanh', 'pool_size_2': 1, 'dropout_2': 0.13162734513990065, 'dilation_2': 1, 'units_3': 64, 'kernel_size_3': 5, 'activation_3': 'tanh', 'pool_size_3': 1, 'dropout_3': 0.31126072705237934, 'dilation_3': 1, 'units_4': 32, 'kernel_size_4': 5, 'activation_4': 'tanh', 'pool_size_4': 1, 'dropout_4': 0.3607081854275042, 'dilation_4': 2, 'units_5': 64, 'kernel_size_5': 5, 'activation_5': 'tanh', 'pool_size_5': 2, 'dropout_5': 0.052194190353457126, 'dilation_5': 1, 'units_6': 32, 'kernel_size_6': 3, 'activation_6': 'tanh', 'pool_size_6': 2, 'dropout_6': 0.04609448152984913, 'dilation_6': 2, 'units_7': 64, 'kernel_size_7': 3, 'activation_7': 'tanh', 'pool_size_7': 2, 'dropout_7': 0.16206556306577125, 'dilation_7': 1, 'units_8': 128, 'kernel_size_8': 3, 'activation_8': 'tanh', 'pool_size_8': 1, 'dropout_8': 0.13509796550399883, 'dilation_8': 1, 'units_9': 32, 'kernel_size_9': 3, 'activation_9': 'tanh', 'pool_size_9': 1, 'dropout_9': 0.03476624876343665, 'dilation_9': 2, 'units_10': 128, 'kernel_size_10': 5, 'activation_10': 'relu', 'pool_size_10': 2, 'dropout_10': 0.3136580274386721, 'dilation_10': 1, 'units_11': 32, 'kernel_size_11': 5, 'activation_11': 'relu', 'pool_size_11': 2, 'dropout_11': 0.07700769226552995, 'dilation_11': 2, 'units_12': 32, 'kernel_size_12': 5, 'activation_12': 'tanh', 'pool_size_12': 2, 'dropout_12': 0.49544077530636765, 'dilation_12': 1, 'units_13': 64, 'kernel_size_13': 3, 'activation_13': 'tanh', 'pool_size_13': 2, 'dropout_13': 0.4788016746016604, 'dilation_13': 2, 'units_14': 32, 'kernel_size_14': 3, 'activation_14': 'relu', 'pool_size_14': 1, 'dropout_14': 0.08368545214681378, 'dilation_14': 1}. Best is trial 1 with value: 0.9753124320948446.\n",
      "[I 2025-05-04 03:17:42,944] Trial 2 finished with value: 0.9780860972399434 and parameters: {'num_layers': 13, 'lr': 0.0008039971614486585, 'units_0': 32, 'kernel_size_0': 3, 'activation_0': 'relu', 'pool_size_0': 1, 'dropout_0': 0.24832411859367487, 'dilation_0': 2, 'units_1': 128, 'kernel_size_1': 3, 'activation_1': 'tanh', 'pool_size_1': 1, 'dropout_1': 0.2357211413227937, 'dilation_1': 1, 'units_2': 64, 'kernel_size_2': 3, 'activation_2': 'relu', 'pool_size_2': 1, 'dropout_2': 0.17499855998204972, 'dilation_2': 1, 'units_3': 128, 'kernel_size_3': 5, 'activation_3': 'relu', 'pool_size_3': 1, 'dropout_3': 0.001386267360226734, 'dilation_3': 1, 'units_4': 32, 'kernel_size_4': 3, 'activation_4': 'tanh', 'pool_size_4': 2, 'dropout_4': 0.027447833296984914, 'dilation_4': 2, 'units_5': 128, 'kernel_size_5': 5, 'activation_5': 'tanh', 'pool_size_5': 2, 'dropout_5': 0.27379551202226926, 'dilation_5': 1, 'units_6': 32, 'kernel_size_6': 5, 'activation_6': 'tanh', 'pool_size_6': 2, 'dropout_6': 0.290008830134348, 'dilation_6': 1, 'units_7': 128, 'kernel_size_7': 5, 'activation_7': 'tanh', 'pool_size_7': 1, 'dropout_7': 0.20800887245067873, 'dilation_7': 2, 'units_8': 128, 'kernel_size_8': 5, 'activation_8': 'relu', 'pool_size_8': 2, 'dropout_8': 0.23603194469896788, 'dilation_8': 1, 'units_9': 32, 'kernel_size_9': 5, 'activation_9': 'relu', 'pool_size_9': 1, 'dropout_9': 0.26150816889731293, 'dilation_9': 1, 'units_10': 32, 'kernel_size_10': 3, 'activation_10': 'tanh', 'pool_size_10': 1, 'dropout_10': 0.4112462051916101, 'dilation_10': 2, 'units_11': 64, 'kernel_size_11': 3, 'activation_11': 'relu', 'pool_size_11': 2, 'dropout_11': 0.14849532590234626, 'dilation_11': 2, 'units_12': 32, 'kernel_size_12': 3, 'activation_12': 'relu', 'pool_size_12': 2, 'dropout_12': 0.20157160187782686, 'dilation_12': 1}. Best is trial 2 with value: 0.9780860972399434.\n",
      "[I 2025-05-04 03:18:40,120] Trial 3 finished with value: 0.9692701829561766 and parameters: {'num_layers': 13, 'lr': 0.00041530156946840144, 'units_0': 128, 'kernel_size_0': 3, 'activation_0': 'relu', 'pool_size_0': 1, 'dropout_0': 0.05304837230309606, 'dilation_0': 1, 'units_1': 32, 'kernel_size_1': 5, 'activation_1': 'tanh', 'pool_size_1': 2, 'dropout_1': 0.2002344820976497, 'dilation_1': 2, 'units_2': 32, 'kernel_size_2': 5, 'activation_2': 'tanh', 'pool_size_2': 1, 'dropout_2': 0.4347148213891615, 'dilation_2': 1, 'units_3': 32, 'kernel_size_3': 5, 'activation_3': 'relu', 'pool_size_3': 2, 'dropout_3': 0.43643682836730624, 'dilation_3': 2, 'units_4': 32, 'kernel_size_4': 3, 'activation_4': 'tanh', 'pool_size_4': 1, 'dropout_4': 0.09380893253363726, 'dilation_4': 1, 'units_5': 32, 'kernel_size_5': 3, 'activation_5': 'relu', 'pool_size_5': 1, 'dropout_5': 0.3530611610049128, 'dilation_5': 2, 'units_6': 32, 'kernel_size_6': 5, 'activation_6': 'relu', 'pool_size_6': 2, 'dropout_6': 0.4125074503749958, 'dilation_6': 2, 'units_7': 64, 'kernel_size_7': 3, 'activation_7': 'relu', 'pool_size_7': 2, 'dropout_7': 0.25988439283020587, 'dilation_7': 1, 'units_8': 64, 'kernel_size_8': 3, 'activation_8': 'relu', 'pool_size_8': 1, 'dropout_8': 0.3221621500140036, 'dilation_8': 2, 'units_9': 32, 'kernel_size_9': 3, 'activation_9': 'tanh', 'pool_size_9': 2, 'dropout_9': 0.48142737949104536, 'dilation_9': 2, 'units_10': 32, 'kernel_size_10': 3, 'activation_10': 'relu', 'pool_size_10': 2, 'dropout_10': 0.04695224728685354, 'dilation_10': 2, 'units_11': 32, 'kernel_size_11': 3, 'activation_11': 'relu', 'pool_size_11': 2, 'dropout_11': 0.3637472232972211, 'dilation_11': 1, 'units_12': 32, 'kernel_size_12': 3, 'activation_12': 'relu', 'pool_size_12': 2, 'dropout_12': 0.4747190068851961, 'dilation_12': 1}. Best is trial 2 with value: 0.9780860972399434.\n",
      "[I 2025-05-04 03:19:43,572] Trial 4 finished with value: 0.9006381215942662 and parameters: {'num_layers': 15, 'lr': 0.0002253487965914968, 'units_0': 32, 'kernel_size_0': 5, 'activation_0': 'tanh', 'pool_size_0': 2, 'dropout_0': 0.45055029600986246, 'dilation_0': 2, 'units_1': 128, 'kernel_size_1': 3, 'activation_1': 'relu', 'pool_size_1': 2, 'dropout_1': 0.3711127645489038, 'dilation_1': 2, 'units_2': 64, 'kernel_size_2': 5, 'activation_2': 'tanh', 'pool_size_2': 1, 'dropout_2': 0.46791935400783696, 'dilation_2': 1, 'units_3': 128, 'kernel_size_3': 5, 'activation_3': 'tanh', 'pool_size_3': 1, 'dropout_3': 0.07893637940171216, 'dilation_3': 1, 'units_4': 128, 'kernel_size_4': 5, 'activation_4': 'relu', 'pool_size_4': 1, 'dropout_4': 0.2879682985369188, 'dilation_4': 2, 'units_5': 64, 'kernel_size_5': 3, 'activation_5': 'tanh', 'pool_size_5': 1, 'dropout_5': 0.039179176744362776, 'dilation_5': 1, 'units_6': 32, 'kernel_size_6': 5, 'activation_6': 'relu', 'pool_size_6': 1, 'dropout_6': 0.11987800193874393, 'dilation_6': 1, 'units_7': 64, 'kernel_size_7': 3, 'activation_7': 'relu', 'pool_size_7': 2, 'dropout_7': 0.48615479512925236, 'dilation_7': 2, 'units_8': 64, 'kernel_size_8': 3, 'activation_8': 'tanh', 'pool_size_8': 1, 'dropout_8': 0.12076331231533494, 'dilation_8': 1, 'units_9': 64, 'kernel_size_9': 3, 'activation_9': 'tanh', 'pool_size_9': 2, 'dropout_9': 0.34063536052691934, 'dilation_9': 1, 'units_10': 64, 'kernel_size_10': 3, 'activation_10': 'tanh', 'pool_size_10': 1, 'dropout_10': 0.09454071933223868, 'dilation_10': 2, 'units_11': 128, 'kernel_size_11': 3, 'activation_11': 'tanh', 'pool_size_11': 2, 'dropout_11': 0.2768638832524357, 'dilation_11': 1, 'units_12': 32, 'kernel_size_12': 5, 'activation_12': 'tanh', 'pool_size_12': 1, 'dropout_12': 0.46603002533948606, 'dilation_12': 2, 'units_13': 64, 'kernel_size_13': 5, 'activation_13': 'tanh', 'pool_size_13': 2, 'dropout_13': 0.11237007213153827, 'dilation_13': 2, 'units_14': 128, 'kernel_size_14': 3, 'activation_14': 'relu', 'pool_size_14': 1, 'dropout_14': 0.462288604399485, 'dilation_14': 1}. Best is trial 2 with value: 0.9780860972399434.\n",
      "[I 2025-05-04 03:20:25,793] Trial 5 finished with value: 0.9548135117506036 and parameters: {'num_layers': 8, 'lr': 0.0005708675653386488, 'units_0': 64, 'kernel_size_0': 5, 'activation_0': 'tanh', 'pool_size_0': 2, 'dropout_0': 0.4727380935604995, 'dilation_0': 2, 'units_1': 32, 'kernel_size_1': 3, 'activation_1': 'relu', 'pool_size_1': 2, 'dropout_1': 0.18547668836979908, 'dilation_1': 2, 'units_2': 128, 'kernel_size_2': 3, 'activation_2': 'tanh', 'pool_size_2': 2, 'dropout_2': 0.420094188973761, 'dilation_2': 2, 'units_3': 32, 'kernel_size_3': 3, 'activation_3': 'relu', 'pool_size_3': 2, 'dropout_3': 0.07462780954726095, 'dilation_3': 2, 'units_4': 128, 'kernel_size_4': 5, 'activation_4': 'tanh', 'pool_size_4': 1, 'dropout_4': 0.16055396715784087, 'dilation_4': 1, 'units_5': 64, 'kernel_size_5': 5, 'activation_5': 'relu', 'pool_size_5': 1, 'dropout_5': 0.06571492026969245, 'dilation_5': 1, 'units_6': 32, 'kernel_size_6': 3, 'activation_6': 'tanh', 'pool_size_6': 2, 'dropout_6': 0.17219347972641103, 'dilation_6': 1, 'units_7': 64, 'kernel_size_7': 3, 'activation_7': 'relu', 'pool_size_7': 1, 'dropout_7': 0.42719302580939195, 'dilation_7': 1}. Best is trial 2 with value: 0.9780860972399434.\n",
      "[I 2025-05-04 03:21:33,655] Trial 6 finished with value: 0.9596958725989128 and parameters: {'num_layers': 10, 'lr': 0.0004945863054554328, 'units_0': 128, 'kernel_size_0': 3, 'activation_0': 'tanh', 'pool_size_0': 2, 'dropout_0': 0.3232990156535736, 'dilation_0': 1, 'units_1': 128, 'kernel_size_1': 3, 'activation_1': 'tanh', 'pool_size_1': 1, 'dropout_1': 0.4471875576070956, 'dilation_1': 2, 'units_2': 64, 'kernel_size_2': 3, 'activation_2': 'tanh', 'pool_size_2': 2, 'dropout_2': 0.39909891655880103, 'dilation_2': 2, 'units_3': 64, 'kernel_size_3': 3, 'activation_3': 'tanh', 'pool_size_3': 1, 'dropout_3': 0.37674541543312534, 'dilation_3': 1, 'units_4': 128, 'kernel_size_4': 3, 'activation_4': 'tanh', 'pool_size_4': 1, 'dropout_4': 0.43566608116435973, 'dilation_4': 1, 'units_5': 128, 'kernel_size_5': 5, 'activation_5': 'tanh', 'pool_size_5': 2, 'dropout_5': 0.07486951372719824, 'dilation_5': 1, 'units_6': 32, 'kernel_size_6': 3, 'activation_6': 'relu', 'pool_size_6': 2, 'dropout_6': 0.08887918087344737, 'dilation_6': 1, 'units_7': 128, 'kernel_size_7': 3, 'activation_7': 'tanh', 'pool_size_7': 1, 'dropout_7': 0.4065579404926858, 'dilation_7': 2, 'units_8': 32, 'kernel_size_8': 3, 'activation_8': 'tanh', 'pool_size_8': 2, 'dropout_8': 0.498093028503387, 'dilation_8': 2, 'units_9': 64, 'kernel_size_9': 5, 'activation_9': 'tanh', 'pool_size_9': 1, 'dropout_9': 0.39582335615443626, 'dilation_9': 1}. Best is trial 2 with value: 0.9780860972399434.\n",
      "[I 2025-05-04 03:24:35,319] Trial 7 finished with value: 0.9739433341606438 and parameters: {'num_layers': 15, 'lr': 0.004692365446518131, 'units_0': 64, 'kernel_size_0': 5, 'activation_0': 'relu', 'pool_size_0': 1, 'dropout_0': 0.33550936173930573, 'dilation_0': 2, 'units_1': 128, 'kernel_size_1': 3, 'activation_1': 'tanh', 'pool_size_1': 1, 'dropout_1': 0.07513792250976153, 'dilation_1': 2, 'units_2': 64, 'kernel_size_2': 3, 'activation_2': 'relu', 'pool_size_2': 1, 'dropout_2': 0.2822179404628605, 'dilation_2': 1, 'units_3': 64, 'kernel_size_3': 3, 'activation_3': 'tanh', 'pool_size_3': 1, 'dropout_3': 0.4517182073978677, 'dilation_3': 1, 'units_4': 64, 'kernel_size_4': 3, 'activation_4': 'relu', 'pool_size_4': 1, 'dropout_4': 0.07444034622871443, 'dilation_4': 1, 'units_5': 32, 'kernel_size_5': 5, 'activation_5': 'relu', 'pool_size_5': 1, 'dropout_5': 0.3801784888440665, 'dilation_5': 2, 'units_6': 128, 'kernel_size_6': 5, 'activation_6': 'relu', 'pool_size_6': 1, 'dropout_6': 0.47169963240810575, 'dilation_6': 1, 'units_7': 64, 'kernel_size_7': 3, 'activation_7': 'tanh', 'pool_size_7': 1, 'dropout_7': 0.36753508817286706, 'dilation_7': 1, 'units_8': 128, 'kernel_size_8': 5, 'activation_8': 'tanh', 'pool_size_8': 2, 'dropout_8': 0.27885104147254935, 'dilation_8': 2, 'units_9': 128, 'kernel_size_9': 5, 'activation_9': 'relu', 'pool_size_9': 1, 'dropout_9': 0.07873191786204514, 'dilation_9': 1, 'units_10': 128, 'kernel_size_10': 5, 'activation_10': 'tanh', 'pool_size_10': 2, 'dropout_10': 0.14518907587090985, 'dilation_10': 1, 'units_11': 128, 'kernel_size_11': 3, 'activation_11': 'tanh', 'pool_size_11': 2, 'dropout_11': 0.046472153865181776, 'dilation_11': 2, 'units_12': 128, 'kernel_size_12': 5, 'activation_12': 'tanh', 'pool_size_12': 2, 'dropout_12': 0.28696160915430885, 'dilation_12': 1, 'units_13': 32, 'kernel_size_13': 5, 'activation_13': 'relu', 'pool_size_13': 1, 'dropout_13': 0.10677365244335668, 'dilation_13': 1, 'units_14': 128, 'kernel_size_14': 5, 'activation_14': 'tanh', 'pool_size_14': 1, 'dropout_14': 0.02763683181388832, 'dilation_14': 1}. Best is trial 2 with value: 0.9780860972399434.\n",
      "[I 2025-05-04 03:25:29,787] Trial 8 finished with value: 0.9700908222869469 and parameters: {'num_layers': 11, 'lr': 0.0015088382908322042, 'units_0': 32, 'kernel_size_0': 5, 'activation_0': 'tanh', 'pool_size_0': 2, 'dropout_0': 0.2553512070445872, 'dilation_0': 1, 'units_1': 32, 'kernel_size_1': 3, 'activation_1': 'relu', 'pool_size_1': 2, 'dropout_1': 0.4107108587334586, 'dilation_1': 2, 'units_2': 128, 'kernel_size_2': 3, 'activation_2': 'relu', 'pool_size_2': 1, 'dropout_2': 0.3269734832229063, 'dilation_2': 1, 'units_3': 64, 'kernel_size_3': 5, 'activation_3': 'tanh', 'pool_size_3': 2, 'dropout_3': 0.21223620798987758, 'dilation_3': 2, 'units_4': 128, 'kernel_size_4': 5, 'activation_4': 'relu', 'pool_size_4': 1, 'dropout_4': 0.32515498213699406, 'dilation_4': 1, 'units_5': 32, 'kernel_size_5': 3, 'activation_5': 'relu', 'pool_size_5': 1, 'dropout_5': 0.055590297226816354, 'dilation_5': 2, 'units_6': 32, 'kernel_size_6': 3, 'activation_6': 'relu', 'pool_size_6': 2, 'dropout_6': 0.33095408042258756, 'dilation_6': 1, 'units_7': 128, 'kernel_size_7': 3, 'activation_7': 'tanh', 'pool_size_7': 2, 'dropout_7': 0.4160520144732415, 'dilation_7': 2, 'units_8': 64, 'kernel_size_8': 3, 'activation_8': 'tanh', 'pool_size_8': 1, 'dropout_8': 0.163603381222523, 'dilation_8': 1, 'units_9': 32, 'kernel_size_9': 3, 'activation_9': 'relu', 'pool_size_9': 2, 'dropout_9': 0.04360903444134939, 'dilation_9': 1, 'units_10': 64, 'kernel_size_10': 3, 'activation_10': 'tanh', 'pool_size_10': 2, 'dropout_10': 0.3294419962963664, 'dilation_10': 2}. Best is trial 2 with value: 0.9780860972399434.\n",
      "[I 2025-05-04 03:26:42,508] Trial 9 finished with value: 0.9670469316670038 and parameters: {'num_layers': 11, 'lr': 0.0008812729798122637, 'units_0': 32, 'kernel_size_0': 5, 'activation_0': 'relu', 'pool_size_0': 2, 'dropout_0': 0.44026714831423186, 'dilation_0': 1, 'units_1': 128, 'kernel_size_1': 3, 'activation_1': 'relu', 'pool_size_1': 1, 'dropout_1': 0.3277452086755211, 'dilation_1': 2, 'units_2': 32, 'kernel_size_2': 5, 'activation_2': 'tanh', 'pool_size_2': 1, 'dropout_2': 0.32592371151278854, 'dilation_2': 2, 'units_3': 32, 'kernel_size_3': 3, 'activation_3': 'tanh', 'pool_size_3': 1, 'dropout_3': 0.151189287507138, 'dilation_3': 1, 'units_4': 64, 'kernel_size_4': 3, 'activation_4': 'tanh', 'pool_size_4': 2, 'dropout_4': 0.015439212329087681, 'dilation_4': 1, 'units_5': 128, 'kernel_size_5': 5, 'activation_5': 'relu', 'pool_size_5': 1, 'dropout_5': 0.30222109648330603, 'dilation_5': 1, 'units_6': 64, 'kernel_size_6': 3, 'activation_6': 'relu', 'pool_size_6': 1, 'dropout_6': 0.34815272041422535, 'dilation_6': 2, 'units_7': 32, 'kernel_size_7': 3, 'activation_7': 'tanh', 'pool_size_7': 2, 'dropout_7': 0.1892218684920718, 'dilation_7': 1, 'units_8': 64, 'kernel_size_8': 5, 'activation_8': 'relu', 'pool_size_8': 2, 'dropout_8': 0.21726732234289714, 'dilation_8': 1, 'units_9': 32, 'kernel_size_9': 5, 'activation_9': 'relu', 'pool_size_9': 2, 'dropout_9': 0.09356469244163085, 'dilation_9': 1, 'units_10': 32, 'kernel_size_10': 3, 'activation_10': 'tanh', 'pool_size_10': 2, 'dropout_10': 0.22957249418514897, 'dilation_10': 2}. Best is trial 2 with value: 0.9780860972399434.\n",
      "[I 2025-05-04 03:27:49,988] Trial 10 finished with value: 0.9730870611532184 and parameters: {'num_layers': 7, 'lr': 0.00018046380406518256, 'units_0': 32, 'kernel_size_0': 3, 'activation_0': 'relu', 'pool_size_0': 1, 'dropout_0': 0.16151900687856566, 'dilation_0': 2, 'units_1': 64, 'kernel_size_1': 5, 'activation_1': 'tanh', 'pool_size_1': 1, 'dropout_1': 0.24638451396784755, 'dilation_1': 1, 'units_2': 64, 'kernel_size_2': 3, 'activation_2': 'relu', 'pool_size_2': 2, 'dropout_2': 0.018242915888008304, 'dilation_2': 2, 'units_3': 128, 'kernel_size_3': 5, 'activation_3': 'relu', 'pool_size_3': 2, 'dropout_3': 0.02092947772181693, 'dilation_3': 2, 'units_4': 32, 'kernel_size_4': 3, 'activation_4': 'tanh', 'pool_size_4': 2, 'dropout_4': 0.19510172612406698, 'dilation_4': 2, 'units_5': 128, 'kernel_size_5': 5, 'activation_5': 'tanh', 'pool_size_5': 2, 'dropout_5': 0.49406058611914894, 'dilation_5': 1, 'units_6': 128, 'kernel_size_6': 5, 'activation_6': 'tanh', 'pool_size_6': 2, 'dropout_6': 0.23537269503512204, 'dilation_6': 1}. Best is trial 2 with value: 0.9780860972399434.\n",
      "[I 2025-05-04 03:29:28,968] Trial 11 finished with value: 0.978922013773599 and parameters: {'num_layers': 13, 'lr': 0.0022096468596582435, 'units_0': 64, 'kernel_size_0': 3, 'activation_0': 'relu', 'pool_size_0': 1, 'dropout_0': 0.03250853638098106, 'dilation_0': 2, 'units_1': 128, 'kernel_size_1': 5, 'activation_1': 'tanh', 'pool_size_1': 1, 'dropout_1': 0.003597214585339528, 'dilation_1': 1, 'units_2': 32, 'kernel_size_2': 3, 'activation_2': 'relu', 'pool_size_2': 1, 'dropout_2': 0.14772595775496683, 'dilation_2': 1, 'units_3': 128, 'kernel_size_3': 5, 'activation_3': 'relu', 'pool_size_3': 1, 'dropout_3': 0.2611490851763186, 'dilation_3': 1, 'units_4': 32, 'kernel_size_4': 5, 'activation_4': 'tanh', 'pool_size_4': 2, 'dropout_4': 0.4060626289319034, 'dilation_4': 2, 'units_5': 64, 'kernel_size_5': 5, 'activation_5': 'tanh', 'pool_size_5': 2, 'dropout_5': 0.18474548569649968, 'dilation_5': 1, 'units_6': 64, 'kernel_size_6': 5, 'activation_6': 'tanh', 'pool_size_6': 2, 'dropout_6': 0.04864431030792364, 'dilation_6': 2, 'units_7': 128, 'kernel_size_7': 5, 'activation_7': 'tanh', 'pool_size_7': 1, 'dropout_7': 0.023592203039152937, 'dilation_7': 2, 'units_8': 128, 'kernel_size_8': 5, 'activation_8': 'relu', 'pool_size_8': 1, 'dropout_8': 0.02799479738463423, 'dilation_8': 1, 'units_9': 32, 'kernel_size_9': 3, 'activation_9': 'tanh', 'pool_size_9': 1, 'dropout_9': 0.20823944681044676, 'dilation_9': 2, 'units_10': 128, 'kernel_size_10': 5, 'activation_10': 'relu', 'pool_size_10': 1, 'dropout_10': 0.4934757477819931, 'dilation_10': 1, 'units_11': 64, 'kernel_size_11': 5, 'activation_11': 'relu', 'pool_size_11': 1, 'dropout_11': 0.05458567401682354, 'dilation_11': 2, 'units_12': 32, 'kernel_size_12': 3, 'activation_12': 'relu', 'pool_size_12': 2, 'dropout_12': 0.13464618164702402, 'dilation_12': 1}. Best is trial 11 with value: 0.978922013773599.\n",
      "[I 2025-05-04 03:30:56,589] Trial 12 finished with value: 0.9773602706726092 and parameters: {'num_layers': 13, 'lr': 0.0025415539034473913, 'units_0': 64, 'kernel_size_0': 3, 'activation_0': 'relu', 'pool_size_0': 1, 'dropout_0': 0.11414660847531355, 'dilation_0': 2, 'units_1': 64, 'kernel_size_1': 5, 'activation_1': 'tanh', 'pool_size_1': 1, 'dropout_1': 0.0026192698475799026, 'dilation_1': 1, 'units_2': 32, 'kernel_size_2': 3, 'activation_2': 'relu', 'pool_size_2': 1, 'dropout_2': 0.1811983682083944, 'dilation_2': 1, 'units_3': 128, 'kernel_size_3': 5, 'activation_3': 'relu', 'pool_size_3': 1, 'dropout_3': 0.24772126051258175, 'dilation_3': 1, 'units_4': 32, 'kernel_size_4': 5, 'activation_4': 'tanh', 'pool_size_4': 2, 'dropout_4': 0.49579604223625795, 'dilation_4': 2, 'units_5': 64, 'kernel_size_5': 5, 'activation_5': 'tanh', 'pool_size_5': 2, 'dropout_5': 0.1861064833096657, 'dilation_5': 1, 'units_6': 64, 'kernel_size_6': 5, 'activation_6': 'tanh', 'pool_size_6': 2, 'dropout_6': 0.26628817921127496, 'dilation_6': 2, 'units_7': 128, 'kernel_size_7': 5, 'activation_7': 'tanh', 'pool_size_7': 1, 'dropout_7': 0.004214704900646349, 'dilation_7': 2, 'units_8': 128, 'kernel_size_8': 5, 'activation_8': 'relu', 'pool_size_8': 2, 'dropout_8': 0.023362850938180912, 'dilation_8': 1, 'units_9': 32, 'kernel_size_9': 5, 'activation_9': 'relu', 'pool_size_9': 1, 'dropout_9': 0.2278873859232156, 'dilation_9': 2, 'units_10': 128, 'kernel_size_10': 5, 'activation_10': 'relu', 'pool_size_10': 1, 'dropout_10': 0.4753542757240193, 'dilation_10': 1, 'units_11': 64, 'kernel_size_11': 5, 'activation_11': 'relu', 'pool_size_11': 1, 'dropout_11': 0.11776490206772539, 'dilation_11': 2, 'units_12': 64, 'kernel_size_12': 3, 'activation_12': 'relu', 'pool_size_12': 2, 'dropout_12': 0.0648690704650578, 'dilation_12': 1}. Best is trial 11 with value: 0.978922013773599.\n",
      "[I 2025-05-04 03:32:39,658] Trial 13 finished with value: 0.9796850772157938 and parameters: {'num_layers': 13, 'lr': 0.0011991307426603693, 'units_0': 32, 'kernel_size_0': 3, 'activation_0': 'relu', 'pool_size_0': 1, 'dropout_0': 0.15303129751631356, 'dilation_0': 2, 'units_1': 128, 'kernel_size_1': 5, 'activation_1': 'tanh', 'pool_size_1': 1, 'dropout_1': 0.12954249266127382, 'dilation_1': 1, 'units_2': 64, 'kernel_size_2': 3, 'activation_2': 'relu', 'pool_size_2': 1, 'dropout_2': 0.15448132715977758, 'dilation_2': 1, 'units_3': 128, 'kernel_size_3': 5, 'activation_3': 'relu', 'pool_size_3': 1, 'dropout_3': 0.17822318772176907, 'dilation_3': 1, 'units_4': 32, 'kernel_size_4': 3, 'activation_4': 'tanh', 'pool_size_4': 2, 'dropout_4': 0.4017257649471556, 'dilation_4': 2, 'units_5': 128, 'kernel_size_5': 5, 'activation_5': 'tanh', 'pool_size_5': 2, 'dropout_5': 0.17004134244803412, 'dilation_5': 1, 'units_6': 64, 'kernel_size_6': 5, 'activation_6': 'tanh', 'pool_size_6': 2, 'dropout_6': 0.01770199515506432, 'dilation_6': 2, 'units_7': 128, 'kernel_size_7': 5, 'activation_7': 'tanh', 'pool_size_7': 1, 'dropout_7': 0.03088066346762075, 'dilation_7': 2, 'units_8': 128, 'kernel_size_8': 5, 'activation_8': 'relu', 'pool_size_8': 1, 'dropout_8': 0.006029004746480597, 'dilation_8': 1, 'units_9': 128, 'kernel_size_9': 5, 'activation_9': 'relu', 'pool_size_9': 1, 'dropout_9': 0.2148208734890374, 'dilation_9': 2, 'units_10': 32, 'kernel_size_10': 5, 'activation_10': 'relu', 'pool_size_10': 1, 'dropout_10': 0.499976110374799, 'dilation_10': 1, 'units_11': 64, 'kernel_size_11': 5, 'activation_11': 'relu', 'pool_size_11': 1, 'dropout_11': 0.18259689795569856, 'dilation_11': 2, 'units_12': 32, 'kernel_size_12': 3, 'activation_12': 'relu', 'pool_size_12': 2, 'dropout_12': 0.16773935623748587, 'dilation_12': 1}. Best is trial 13 with value: 0.9796850772157938.\n",
      "[I 2025-05-04 03:34:43,334] Trial 14 finished with value: 0.981759172954064 and parameters: {'num_layers': 12, 'lr': 0.0016999759841156564, 'units_0': 64, 'kernel_size_0': 3, 'activation_0': 'relu', 'pool_size_0': 1, 'dropout_0': 0.1250627613377461, 'dilation_0': 2, 'units_1': 128, 'kernel_size_1': 5, 'activation_1': 'tanh', 'pool_size_1': 1, 'dropout_1': 0.12632194237159514, 'dilation_1': 1, 'units_2': 128, 'kernel_size_2': 3, 'activation_2': 'relu', 'pool_size_2': 1, 'dropout_2': 0.058325552369733163, 'dilation_2': 1, 'units_3': 128, 'kernel_size_3': 5, 'activation_3': 'relu', 'pool_size_3': 1, 'dropout_3': 0.1862313569969462, 'dilation_3': 1, 'units_4': 32, 'kernel_size_4': 5, 'activation_4': 'tanh', 'pool_size_4': 2, 'dropout_4': 0.4080685576288325, 'dilation_4': 2, 'units_5': 64, 'kernel_size_5': 5, 'activation_5': 'tanh', 'pool_size_5': 2, 'dropout_5': 0.15230852595425645, 'dilation_5': 1, 'units_6': 64, 'kernel_size_6': 5, 'activation_6': 'tanh', 'pool_size_6': 2, 'dropout_6': 0.03052722575414722, 'dilation_6': 2, 'units_7': 128, 'kernel_size_7': 5, 'activation_7': 'tanh', 'pool_size_7': 1, 'dropout_7': 0.01957535234023567, 'dilation_7': 2, 'units_8': 128, 'kernel_size_8': 5, 'activation_8': 'relu', 'pool_size_8': 1, 'dropout_8': 0.011620422956644338, 'dilation_8': 1, 'units_9': 128, 'kernel_size_9': 3, 'activation_9': 'tanh', 'pool_size_9': 1, 'dropout_9': 0.18297804222206446, 'dilation_9': 2, 'units_10': 128, 'kernel_size_10': 5, 'activation_10': 'relu', 'pool_size_10': 1, 'dropout_10': 0.4948110696063857, 'dilation_10': 1, 'units_11': 64, 'kernel_size_11': 5, 'activation_11': 'relu', 'pool_size_11': 1, 'dropout_11': 0.21715258809546822, 'dilation_11': 2}. Best is trial 14 with value: 0.981759172954064.\n"
     ]
    },
    {
     "name": "stdout",
     "output_type": "stream",
     "text": [
      "{'num_layers': 12, 'lr': 0.0016999759841156564, 'units_0': 64, 'kernel_size_0': 3, 'activation_0': 'relu', 'pool_size_0': 1, 'dropout_0': 0.1250627613377461, 'dilation_0': 2, 'units_1': 128, 'kernel_size_1': 5, 'activation_1': 'tanh', 'pool_size_1': 1, 'dropout_1': 0.12632194237159514, 'dilation_1': 1, 'units_2': 128, 'kernel_size_2': 3, 'activation_2': 'relu', 'pool_size_2': 1, 'dropout_2': 0.058325552369733163, 'dilation_2': 1, 'units_3': 128, 'kernel_size_3': 5, 'activation_3': 'relu', 'pool_size_3': 1, 'dropout_3': 0.1862313569969462, 'dilation_3': 1, 'units_4': 32, 'kernel_size_4': 5, 'activation_4': 'tanh', 'pool_size_4': 2, 'dropout_4': 0.4080685576288325, 'dilation_4': 2, 'units_5': 64, 'kernel_size_5': 5, 'activation_5': 'tanh', 'pool_size_5': 2, 'dropout_5': 0.15230852595425645, 'dilation_5': 1, 'units_6': 64, 'kernel_size_6': 5, 'activation_6': 'tanh', 'pool_size_6': 2, 'dropout_6': 0.03052722575414722, 'dilation_6': 2, 'units_7': 128, 'kernel_size_7': 5, 'activation_7': 'tanh', 'pool_size_7': 1, 'dropout_7': 0.01957535234023567, 'dilation_7': 2, 'units_8': 128, 'kernel_size_8': 5, 'activation_8': 'relu', 'pool_size_8': 1, 'dropout_8': 0.011620422956644338, 'dilation_8': 1, 'units_9': 128, 'kernel_size_9': 3, 'activation_9': 'tanh', 'pool_size_9': 1, 'dropout_9': 0.18297804222206446, 'dilation_9': 2, 'units_10': 128, 'kernel_size_10': 5, 'activation_10': 'relu', 'pool_size_10': 1, 'dropout_10': 0.4948110696063857, 'dilation_10': 1, 'units_11': 64, 'kernel_size_11': 5, 'activation_11': 'relu', 'pool_size_11': 1, 'dropout_11': 0.21715258809546822, 'dilation_11': 2}\n",
      "{'accuracy': 0.9204044594244232, 'roc_auc': 0.977864362739166, 'average_precision': 0.9795169564959608}\n"
     ]
    }
   ],
   "source": [
    "search_space = {\n",
    "    \"num_layers\": {\"type\": \"int\", \"low\": 4, \"high\": 15},\n",
    "    \"lr\": {\"type\": \"float\", \"low\": 1e-4, \"high\": 1e-2, \"log\": True},\n",
    "    \"units\": {\"type\": \"categorical\", \"choices\": [32, 64, 128]},\n",
    "    \"kernel_size\": {\"type\": \"categorical\", \"choices\": [3, 5]},\n",
    "    \"activation\": {\"type\": \"categorical\", \"choices\": [\"relu\", \"tanh\"]},\n",
    "    \"pool_size\": {\"type\": \"categorical\", \"choices\": [1, 2]},\n",
    "    \"dropout\": {\"type\": \"float\", \"low\": 0.0, \"high\": 0.5},\n",
    "    \"dilation\": {\"type\": \"categorical\", \"choices\": [1, 2]},\n",
    "}\n",
    "\n",
    "\n",
    "best_model, best_params, metrics, study = run_optuna_pipeline(\n",
    "    train_loader,\n",
    "    valid_loader,\n",
    "    device=\"cuda\",\n",
    "    input_len=101,\n",
    "    epochs=10,\n",
    "    n_trials=15,\n",
    "    save_path=\"../Models/CNN_OH.pt\",\n",
    "    search_space=search_space,\n",
    ")\n",
    "\n",
    "print(best_params)\n",
    "print(metrics)"
   ]
  },
  {
   "cell_type": "code",
   "execution_count": null,
   "id": "6dff6f7b",
   "metadata": {},
   "outputs": [],
   "source": [
    "# Save the Model\n",
    "\n",
    "study.best_params\n",
    "import json\n",
    "\n",
    "with open(\"../Models/CNN_OH.json\", \"w\") as f:\n",
    "    json.dump(study.best_params, f)"
   ]
  },
  {
   "cell_type": "code",
   "execution_count": null,
   "id": "78845b0e",
   "metadata": {},
   "outputs": [],
   "source": [
    "# import optuna.visualization as vis\n",
    "\n",
    "# # Optimization progress\n",
    "# vis.plot_optimization_history(study).show()\n",
    "\n",
    "# # Param importance (which hp mattered most?)\n",
    "# vis.plot_param_importances(study).show()\n",
    "\n",
    "# # Parallel coordinates (interactions between hparams)\n",
    "# vis.plot_parallel_coordinate(study).show()"
   ]
  },
  {
   "cell_type": "markdown",
   "id": "d60f778e",
   "metadata": {},
   "source": [
    "# LOOPING THROUGH FOLDERS"
   ]
  },
  {
   "cell_type": "code",
   "execution_count": null,
   "id": "656c91ea",
   "metadata": {},
   "outputs": [],
   "source": [
    "import pandas as pd\n",
    "import numpy as np\n",
    "import torch\n",
    "import optuna\n",
    "import json\n",
    "\n",
    "import sys\n",
    "\n",
    "sys.path.append(\"../utils\")\n",
    "\n",
    "from initialize_results_df import initialize_results_df\n",
    "from load_sequence_data import load_sequence_data\n",
    "from one_hot import one_hot_encode_sequences\n",
    "from data_loader_one_hot import prepare_dataloaders\n",
    "from optuna_cnn_one_hot_utils import *\n",
    "\n",
    "DEVICE = torch.device(\"cuda\" if torch.cuda.is_available() else \"cpu\")"
   ]
  },
  {
   "cell_type": "code",
   "execution_count": null,
   "id": "c4b1c89b",
   "metadata": {},
   "outputs": [],
   "source": [
    "# load hp from JSON\n",
    "with open(\"../Models/CNN_OH.json\", \"r\") as f:\n",
    "    hp = json.load(f)"
   ]
  },
  {
   "cell_type": "code",
   "execution_count": null,
   "id": "5f1c8859",
   "metadata": {},
   "outputs": [
    {
     "name": "stdout",
     "output_type": "stream",
     "text": [
      "✅ Model loaded and ready!\n"
     ]
    }
   ],
   "source": [
    "# create model\n",
    "input_len = 101  # or whatever your input length is\n",
    "model = DynamicCNN(hp, input_len=input_len)\n",
    "\n",
    "# load saved state_dict\n",
    "model.load_state_dict(torch.load(\"../Models/CNN_OH.pt\"))\n",
    "\n",
    "# move model to device\n",
    "device = torch.device(\"cuda\" if torch.cuda.is_available() else \"cpu\")\n",
    "model.to(device)\n",
    "\n",
    "print(\"✅ Model loaded and ready!\")"
   ]
  },
  {
   "cell_type": "code",
   "execution_count": null,
   "id": "715ea12d",
   "metadata": {},
   "outputs": [],
   "source": [
    "# Paths\n",
    "data_dir = \"../Data\"\n",
    "excel_path = \"../Outputs/50_CNN_OH.xlsx\"\n",
    "\n",
    "# Load dataframes\n",
    "results_df, excel_df = initialize_results_df(data_dir, excel_path)"
   ]
  },
  {
   "cell_type": "code",
   "execution_count": null,
   "id": "02663a2c",
   "metadata": {},
   "outputs": [],
   "source": [
    "for idx, row in results_df.iloc[:50].iterrows():\n",
    "    train_path = row[\"train_path\"]\n",
    "    test_path = row[\"test_path\"]\n",
    "    folder_name = row[\"folder_name\"]\n",
    "\n",
    "    print(f\"🔄 Processing {folder_name}\")\n",
    "\n",
    "    # --- Load training data ---\n",
    "    train_df = load_sequence_data(train_path)\n",
    "    test_df = load_sequence_data(test_path)\n",
    "\n",
    "    # --- One-hot encode ---\n",
    "    X_train = one_hot_encode_sequences(train_df[\"sequence\"])\n",
    "    X_train = X_train.transpose(0, 2, 1)\n",
    "    y_train = train_df[\"label\"]\n",
    "\n",
    "    X_test = one_hot_encode_sequences(test_df[\"sequence\"])\n",
    "    X_test = X_test.transpose(0, 2, 1)\n",
    "    y_test = test_df[\"label\"]\n",
    "\n",
    "    # --- Prepare loaders ---\n",
    "    train_loader, valid_loader = prepare_dataloaders(\n",
    "        X_train, y_train, batch_size=32\n",
    "    )\n",
    "    test_loader, _ = prepare_dataloaders(X_test, y_test, batch_size=32)\n",
    "\n",
    "    # --- Fine-tune model ---\n",
    "    model = train_model(\n",
    "        model, train_loader, valid_loader, device, hp, epochs=5\n",
    "    )\n",
    "\n",
    "    # --- Evaluate ---\n",
    "    train_metrics = evaluate_model(model, train_loader, device)\n",
    "    test_metrics = evaluate_model(model, test_loader, device)\n",
    "\n",
    "    print(\n",
    "        f\"✅ {folder_name}: train_acc={train_metrics['accuracy']:.4f}, test_acc={test_metrics['accuracy']:.4f}\"\n",
    "    )\n",
    "\n",
    "    # # --- Store metrics ---\n",
    "    excel_df.at[idx, \"folder_name\"] = folder_name\n",
    "    excel_df.at[idx, \"train_accuracy\"] = train_metrics[\"accuracy\"]\n",
    "    excel_df.at[idx, \"test_accuracy\"] = test_metrics[\"accuracy\"]\n",
    "    excel_df.at[idx, \"pr-roc\"] = test_metrics[\"roc_auc\"]\n",
    "    excel_df.at[idx, \"pr-auc\"] = test_metrics[\"average_precision\"]\n",
    "\n",
    "# ✅ Save updated Excel\n",
    "excel_df.iloc[: idx + 1].to_excel(excel_path, index=False)\n",
    "print(f\"✅ Metrics saved to {excel_path}\")\n",
    "\n",
    "# ✅ Save the final fine-tuned model\n",
    "torch.save(\n",
    "    model.state_dict(), \"../Models/50_CNN_OH.pt\"\n",
    ")  #  <---  Fine tuned model after 50 folders.\n",
    "print(\"✅ Final fine-tuned model saved to Models/50_CNN_OH.pt\")"
   ]
  },
  {
   "cell_type": "markdown",
   "id": "a6425bf5",
   "metadata": {},
   "source": [
    "# USER INPUT"
   ]
  },
  {
   "cell_type": "code",
   "execution_count": null,
   "id": "9f165130",
   "metadata": {},
   "outputs": [],
   "source": [
    "import pandas as pd\n",
    "import numpy as np\n",
    "import torch\n",
    "import optuna\n",
    "import json\n",
    "\n",
    "import sys\n",
    "\n",
    "sys.path.append(\"../utils\")\n",
    "\n",
    "from initialize_results_df import initialize_results_df\n",
    "from load_sequence_data import load_sequence_data\n",
    "from one_hot import one_hot_encode_sequences\n",
    "from data_loader_one_hot import prepare_dataloaders\n",
    "from optuna_cnn_one_hot_utils import *\n",
    "\n",
    "DEVICE = torch.device(\"cuda\" if torch.cuda.is_available() else \"cpu\")"
   ]
  },
  {
   "cell_type": "code",
   "execution_count": null,
   "id": "6e4caaeb",
   "metadata": {},
   "outputs": [
    {
     "name": "stderr",
     "output_type": "stream",
     "text": [
      "C:\\Users\\harsh\\AppData\\Local\\Temp\\ipykernel_13232\\3756983167.py:8: FutureWarning: You are using `torch.load` with `weights_only=False` (the current default value), which uses the default pickle module implicitly. It is possible to construct malicious pickle data which will execute arbitrary code during unpickling (See https://github.com/pytorch/pytorch/blob/main/SECURITY.md#untrusted-models for more details). In a future release, the default value for `weights_only` will be flipped to `True`. This limits the functions that could be executed during unpickling. Arbitrary objects will no longer be allowed to be loaded via this mode unless they are explicitly allowlisted by the user via `torch.serialization.add_safe_globals`. We recommend you start setting `weights_only=True` for any use case where you don't have full control of the loaded file. Please open an issue on GitHub for any issues related to this experimental feature.\n",
      "  model.load_state_dict(torch.load(model_path, map_location='cpu'))\n"
     ]
    },
    {
     "data": {
      "text/plain": [
       "DynamicCNN(\n",
       "  (feature_extractor): Sequential(\n",
       "    (0): Conv1d(4, 64, kernel_size=(3,), stride=(1,), padding=same, dilation=(2,))\n",
       "    (1): BatchNorm1d(64, eps=1e-05, momentum=0.1, affine=True, track_running_stats=True)\n",
       "    (2): ReLU()\n",
       "    (3): MaxPool1d(kernel_size=1, stride=1, padding=0, dilation=1, ceil_mode=False)\n",
       "    (4): Dropout(p=0.1250627613377461, inplace=False)\n",
       "    (5): Conv1d(64, 128, kernel_size=(5,), stride=(1,), padding=same)\n",
       "    (6): BatchNorm1d(128, eps=1e-05, momentum=0.1, affine=True, track_running_stats=True)\n",
       "    (7): Tanh()\n",
       "    (8): MaxPool1d(kernel_size=1, stride=1, padding=0, dilation=1, ceil_mode=False)\n",
       "    (9): Dropout(p=0.12632194237159514, inplace=False)\n",
       "    (10): Conv1d(128, 128, kernel_size=(3,), stride=(1,), padding=same)\n",
       "    (11): BatchNorm1d(128, eps=1e-05, momentum=0.1, affine=True, track_running_stats=True)\n",
       "    (12): ReLU()\n",
       "    (13): MaxPool1d(kernel_size=1, stride=1, padding=0, dilation=1, ceil_mode=False)\n",
       "    (14): Dropout(p=0.058325552369733163, inplace=False)\n",
       "    (15): Conv1d(128, 128, kernel_size=(5,), stride=(1,), padding=same)\n",
       "    (16): BatchNorm1d(128, eps=1e-05, momentum=0.1, affine=True, track_running_stats=True)\n",
       "    (17): ReLU()\n",
       "    (18): MaxPool1d(kernel_size=1, stride=1, padding=0, dilation=1, ceil_mode=False)\n",
       "    (19): Dropout(p=0.1862313569969462, inplace=False)\n",
       "    (20): Conv1d(128, 32, kernel_size=(5,), stride=(1,), padding=same, dilation=(2,))\n",
       "    (21): BatchNorm1d(32, eps=1e-05, momentum=0.1, affine=True, track_running_stats=True)\n",
       "    (22): Tanh()\n",
       "    (23): MaxPool1d(kernel_size=2, stride=2, padding=0, dilation=1, ceil_mode=False)\n",
       "    (24): Dropout(p=0.4080685576288325, inplace=False)\n",
       "    (25): Conv1d(32, 64, kernel_size=(5,), stride=(1,), padding=same)\n",
       "    (26): BatchNorm1d(64, eps=1e-05, momentum=0.1, affine=True, track_running_stats=True)\n",
       "    (27): Tanh()\n",
       "    (28): MaxPool1d(kernel_size=2, stride=2, padding=0, dilation=1, ceil_mode=False)\n",
       "    (29): Dropout(p=0.15230852595425645, inplace=False)\n",
       "    (30): Conv1d(64, 64, kernel_size=(5,), stride=(1,), padding=same, dilation=(2,))\n",
       "    (31): BatchNorm1d(64, eps=1e-05, momentum=0.1, affine=True, track_running_stats=True)\n",
       "    (32): Tanh()\n",
       "    (33): MaxPool1d(kernel_size=2, stride=2, padding=0, dilation=1, ceil_mode=False)\n",
       "    (34): Dropout(p=0.03052722575414722, inplace=False)\n",
       "    (35): Conv1d(64, 128, kernel_size=(5,), stride=(1,), padding=same, dilation=(2,))\n",
       "    (36): BatchNorm1d(128, eps=1e-05, momentum=0.1, affine=True, track_running_stats=True)\n",
       "    (37): Tanh()\n",
       "    (38): MaxPool1d(kernel_size=1, stride=1, padding=0, dilation=1, ceil_mode=False)\n",
       "    (39): Dropout(p=0.01957535234023567, inplace=False)\n",
       "    (40): Conv1d(128, 128, kernel_size=(5,), stride=(1,), padding=same)\n",
       "    (41): BatchNorm1d(128, eps=1e-05, momentum=0.1, affine=True, track_running_stats=True)\n",
       "    (42): ReLU()\n",
       "    (43): MaxPool1d(kernel_size=1, stride=1, padding=0, dilation=1, ceil_mode=False)\n",
       "    (44): Dropout(p=0.011620422956644338, inplace=False)\n",
       "  )\n",
       "  (classifier): Sequential(\n",
       "    (0): Flatten(start_dim=1, end_dim=-1)\n",
       "    (1): Linear(in_features=1536, out_features=1, bias=True)\n",
       "    (2): Sigmoid()\n",
       "  )\n",
       ")"
      ]
     },
     "execution_count": 2,
     "metadata": {},
     "output_type": "execute_result"
    }
   ],
   "source": [
    "hp_path = \"../Models/CNN_OH.json\"\n",
    "model_path = \"../Models/50_CNN_OH.pt\"\n",
    "\n",
    "with open(hp_path, \"r\") as f:\n",
    "    hp = json.load(f)\n",
    "device = \"cuda\" if torch.cuda.is_available() else \"cpu\"\n",
    "model = DynamicCNN(hp, input_len=101)\n",
    "model.load_state_dict(torch.load(model_path, map_location=\"cpu\"))\n",
    "model.to(device)"
   ]
  },
  {
   "cell_type": "code",
   "execution_count": null,
   "id": "8fa8372b",
   "metadata": {},
   "outputs": [
    {
     "name": "stdout",
     "output_type": "stream",
     "text": [
      "Prediction: TFBS (Confidence: 73.11%)\n"
     ]
    }
   ],
   "source": [
    "sequence = input(\"Enter a DNA sequence (length = 101): \").strip()\n",
    "label, confidence = predict_onehot_sequence(\n",
    "    model, sequence, device=\"cuda\", seq_len=101\n",
    ")\n",
    "print(f\"Prediction: {label} (Confidence: {confidence}%)\")"
   ]
  },
  {
   "cell_type": "code",
   "execution_count": null,
   "id": "b2f20594",
   "metadata": {},
   "outputs": [],
   "source": []
  }
 ],
 "metadata": {
  "kernelspec": {
   "display_name": "Python 3",
   "language": "python",
   "name": "python3"
  },
  "language_info": {
   "codemirror_mode": {
    "name": "ipython",
    "version": 3
   },
   "file_extension": ".py",
   "mimetype": "text/x-python",
   "name": "python",
   "nbconvert_exporter": "python",
   "pygments_lexer": "ipython3",
   "version": "3.11.5"
  }
 },
 "nbformat": 4,
 "nbformat_minor": 5
}
